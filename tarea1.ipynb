{
 "cells": [
  {
   "cell_type": "markdown",
   "id": "fbaeb0cf",
   "metadata": {},
   "source": [
    "# Práctica 1 - Tipos Numéricos, String, Set, Diccionarios, Tuplas"
   ]
  },
  {
   "cell_type": "markdown",
   "id": "bcb523a1",
   "metadata": {},
   "source": [
    "preparado por prof. Antonio Russoniello"
   ]
  },
  {
   "cell_type": "markdown",
   "id": "03a758ad",
   "metadata": {},
   "source": [
    "## Paso 1"
   ]
  },
  {
   "cell_type": "markdown",
   "id": "84f90ac3",
   "metadata": {},
   "source": [
    "Vamos a crear la variable **mensaje** esta variable contiene valores ambientales de humedad y temperatura para varias ciudades del país"
   ]
  },
  {
   "cell_type": "code",
   "execution_count": 1,
   "id": "dbd8f523",
   "metadata": {},
   "outputs": [],
   "source": [
    "mensaje = 'Valencia->44%,24.385417062434136;Valencia->41%,23.16706208744312;Maracay->54%,23.174235266004455;'\\\n",
    "        \"Caracas->60%,23.21881955940879;Maracaibo->46%,23.08528369893707;Amazonas->59%,24.153870621406824;\"\\\n",
    "        'Amazonas->46%,24.112679522556327;Caracas->50%,23.033279906706532;Caracas->43%,24.471850403219218;'\\\n",
    "        'Caracas->60%,23.093638109777544;Amazonas->40%,23.27146416378274;Caracas->44%,24.136596515560008;'\\\n",
    "        'Caracas->41%,23.211896444367312;Amazonas->60%,24.306861635724474;Caracas->56%,23.24969618699264;'\\\n",
    "        'Caracas->54%,23.18420581435151;Caracas->51%,24.451987950007332;Maracaibo->45%,24.44897952121968;'\\\n",
    "        'Caracas->55%,24.237886442373526;Maracaibo->60%,23.12115843953649;Valencia->43%,24.17915318123484;'\\\n",
    "        'Valencia->40%,23.294380429607685;Valencia->54%,23.025011717022654;Maracay->42%,23.413523250262084;'\\\n",
    "        'Maracay->44%,23.1614712307336'"
   ]
  },
  {
   "cell_type": "markdown",
   "id": "328c697a",
   "metadata": {},
   "source": [
    "queremos crear una lista que contenga cada elemento de la lista **mensaje**, para ello procedemos a separar los elementos por el caracter **;**"
   ]
  },
  {
   "cell_type": "code",
   "execution_count": 2,
   "id": "f6fc593f",
   "metadata": {},
   "outputs": [],
   "source": [
    "data_ciudad = mensaje.split(';')"
   ]
  },
  {
   "cell_type": "markdown",
   "id": "80c5514a",
   "metadata": {},
   "source": [
    "presentemos el valor de la variable **data_ciudad** de tipo \"String\""
   ]
  },
  {
   "cell_type": "code",
   "execution_count": 3,
   "id": "5007f067",
   "metadata": {},
   "outputs": [
    {
     "name": "stdout",
     "output_type": "stream",
     "text": [
      "['Valencia->44%,24.385417062434136', 'Valencia->41%,23.16706208744312', 'Maracay->54%,23.174235266004455', 'Caracas->60%,23.21881955940879', 'Maracaibo->46%,23.08528369893707', 'Amazonas->59%,24.153870621406824', 'Amazonas->46%,24.112679522556327', 'Caracas->50%,23.033279906706532', 'Caracas->43%,24.471850403219218', 'Caracas->60%,23.093638109777544', 'Amazonas->40%,23.27146416378274', 'Caracas->44%,24.136596515560008', 'Caracas->41%,23.211896444367312', 'Amazonas->60%,24.306861635724474', 'Caracas->56%,23.24969618699264', 'Caracas->54%,23.18420581435151', 'Caracas->51%,24.451987950007332', 'Maracaibo->45%,24.44897952121968', 'Caracas->55%,24.237886442373526', 'Maracaibo->60%,23.12115843953649', 'Valencia->43%,24.17915318123484', 'Valencia->40%,23.294380429607685', 'Valencia->54%,23.025011717022654', 'Maracay->42%,23.413523250262084', 'Maracay->44%,23.1614712307336']\n"
     ]
    }
   ],
   "source": [
    "print(data_ciudad)"
   ]
  },
  {
   "cell_type": "markdown",
   "id": "18387286",
   "metadata": {},
   "source": [
    "presentemos por pantalla cada elemento de la lista **data_ciudad**"
   ]
  },
  {
   "cell_type": "code",
   "execution_count": 4,
   "id": "6a281692",
   "metadata": {},
   "outputs": [
    {
     "name": "stdout",
     "output_type": "stream",
     "text": [
      "Valencia->44%,24.385417062434136\n",
      "Valencia->41%,23.16706208744312\n",
      "Maracay->54%,23.174235266004455\n",
      "Caracas->60%,23.21881955940879\n",
      "Maracaibo->46%,23.08528369893707\n",
      "Amazonas->59%,24.153870621406824\n",
      "Amazonas->46%,24.112679522556327\n",
      "Caracas->50%,23.033279906706532\n",
      "Caracas->43%,24.471850403219218\n",
      "Caracas->60%,23.093638109777544\n",
      "Amazonas->40%,23.27146416378274\n",
      "Caracas->44%,24.136596515560008\n",
      "Caracas->41%,23.211896444367312\n",
      "Amazonas->60%,24.306861635724474\n",
      "Caracas->56%,23.24969618699264\n",
      "Caracas->54%,23.18420581435151\n",
      "Caracas->51%,24.451987950007332\n",
      "Maracaibo->45%,24.44897952121968\n",
      "Caracas->55%,24.237886442373526\n",
      "Maracaibo->60%,23.12115843953649\n",
      "Valencia->43%,24.17915318123484\n",
      "Valencia->40%,23.294380429607685\n",
      "Valencia->54%,23.025011717022654\n",
      "Maracay->42%,23.413523250262084\n",
      "Maracay->44%,23.1614712307336\n"
     ]
    }
   ],
   "source": [
    "for data in data_ciudad:\n",
    "    print(data)"
   ]
  },
  {
   "cell_type": "markdown",
   "id": "4b905545",
   "metadata": {},
   "source": [
    "## Paso 2"
   ]
  },
  {
   "cell_type": "markdown",
   "id": "462ad9ad",
   "metadata": {},
   "source": [
    "Ahora queremos que los datos de **data_ciudad** sean asignados a una variable de tipo lista que contenga como elementos la lista de valores, debe convertirse la temperatura a tipo flotante y presentarse con dos dígitos decimales.\n",
    "\n",
    "Se presenta un ejemplo de la salida deseada: <br>\n",
    "\n",
    "['Valencia', '44%', 24.39],\n",
    "['Valencia', '41%', 23.17],\n",
    "['Maracay', '54%', 23.17],\n",
    "['Caracas', '60%', 23.22]\n",
    "...\n",
    "]"
   ]
  },
  {
   "cell_type": "code",
   "execution_count": 5,
   "id": "66b5d603",
   "metadata": {},
   "outputs": [
    {
     "name": "stdout",
     "output_type": "stream",
     "text": [
      "[['Valencia', '44%', 24.39], ['Valencia', '41%', 23.17], ['Maracay', '54%', 23.17], ['Caracas', '60%', 23.22], ['Maracaibo', '46%', 23.09], ['Amazonas', '59%', 24.15], ['Amazonas', '46%', 24.11], ['Caracas', '50%', 23.03], ['Caracas', '43%', 24.47], ['Caracas', '60%', 23.09], ['Amazonas', '40%', 23.27], ['Caracas', '44%', 24.14], ['Caracas', '41%', 23.21], ['Amazonas', '60%', 24.31], ['Caracas', '56%', 23.25], ['Caracas', '54%', 23.18], ['Caracas', '51%', 24.45], ['Maracaibo', '45%', 24.45], ['Caracas', '55%', 24.24], ['Maracaibo', '60%', 23.12], ['Valencia', '43%', 24.18], ['Valencia', '40%', 23.29], ['Valencia', '54%', 23.03], ['Maracay', '42%', 23.41], ['Maracay', '44%', 23.16]]\n"
     ]
    }
   ],
   "source": [
    "nueva_lista = []\n",
    "\n",
    "for data in data_ciudad:\n",
    "    elemento = data.split(',')\n",
    "    elemento_tmp = elemento[0].split('->')\n",
    "    ciudad = elemento_tmp[0]\n",
    "    hum = elemento_tmp[1]\n",
    "    temp = round(float(elemento[1]), 2)    \n",
    "    valores = [ciudad,hum,temp]\n",
    "    nueva_lista.append(valores)\n",
    "\n",
    "print(nueva_lista)"
   ]
  },
  {
   "cell_type": "markdown",
   "id": "b3e14cd1",
   "metadata": {},
   "source": [
    "presente por pantalla cada elemento de la lista **nueva_lista** con el siguiente formato:<br>\n",
    "\n",
    "ciudad: Valencia humedad: 44% temperatura: 24.39'\n"
   ]
  },
  {
   "cell_type": "code",
   "execution_count": 6,
   "id": "8a2ce93f",
   "metadata": {
    "scrolled": true
   },
   "outputs": [
    {
     "name": "stdout",
     "output_type": "stream",
     "text": [
      "ciudad: Valencia humedad: 44% temperatura: 24.39\n",
      "ciudad: Valencia humedad: 41% temperatura: 23.17\n",
      "ciudad: Maracay humedad: 54% temperatura: 23.17\n",
      "ciudad: Caracas humedad: 60% temperatura: 23.22\n",
      "ciudad: Maracaibo humedad: 46% temperatura: 23.09\n",
      "ciudad: Amazonas humedad: 59% temperatura: 24.15\n",
      "ciudad: Amazonas humedad: 46% temperatura: 24.11\n",
      "ciudad: Caracas humedad: 50% temperatura: 23.03\n",
      "ciudad: Caracas humedad: 43% temperatura: 24.47\n",
      "ciudad: Caracas humedad: 60% temperatura: 23.09\n",
      "ciudad: Amazonas humedad: 40% temperatura: 23.27\n",
      "ciudad: Caracas humedad: 44% temperatura: 24.14\n",
      "ciudad: Caracas humedad: 41% temperatura: 23.21\n",
      "ciudad: Amazonas humedad: 60% temperatura: 24.31\n",
      "ciudad: Caracas humedad: 56% temperatura: 23.25\n",
      "ciudad: Caracas humedad: 54% temperatura: 23.18\n",
      "ciudad: Caracas humedad: 51% temperatura: 24.45\n",
      "ciudad: Maracaibo humedad: 45% temperatura: 24.45\n",
      "ciudad: Caracas humedad: 55% temperatura: 24.24\n",
      "ciudad: Maracaibo humedad: 60% temperatura: 23.12\n",
      "ciudad: Valencia humedad: 43% temperatura: 24.18\n",
      "ciudad: Valencia humedad: 40% temperatura: 23.29\n",
      "ciudad: Valencia humedad: 54% temperatura: 23.03\n",
      "ciudad: Maracay humedad: 42% temperatura: 23.41\n",
      "ciudad: Maracay humedad: 44% temperatura: 23.16\n"
     ]
    }
   ],
   "source": [
    "datos_ciudad = []\n",
    "for data in nueva_lista:\n",
    "    ciudad = data[0]\n",
    "    hum = data[1]\n",
    "    temp = data[2]\n",
    "    print('ciudad: ' + ciudad + ' humedad: ' + hum + ' temperatura: ' + str(temp))"
   ]
  },
  {
   "cell_type": "markdown",
   "id": "a78307cd",
   "metadata": {},
   "source": [
    "## Paso 3"
   ]
  },
  {
   "cell_type": "markdown",
   "id": "08b00e47",
   "metadata": {},
   "source": [
    "ahora requerimos reasignar los valores a una nueva lista de manera que podamos ordenarla por orden alfabético de ciudad y obtener por pantalla los valores agrupados. Deben ser presentados con el siguiente formato:<br>\n",
    "<img src=\"salida.png\" alt=\"Alternative text\" />\n",
    "<center>..."
   ]
  },
  {
   "cell_type": "code",
   "execution_count": 7,
   "id": "dea2982f-7654-44f1-b38a-e27e04ebeabd",
   "metadata": {
    "scrolled": true
   },
   "outputs": [
    {
     "name": "stdout",
     "output_type": "stream",
     "text": [
      "['Amazonas 40% 23.27146416378274', 'Amazonas 46% 24.112679522556327', 'Amazonas 59% 24.153870621406824', 'Amazonas 60% 24.306861635724474', 'Caracas 41% 23.211896444367312', 'Caracas 43% 24.471850403219218', 'Caracas 44% 24.136596515560008', 'Caracas 50% 23.033279906706532', 'Caracas 51% 24.451987950007332', 'Caracas 54% 23.18420581435151', 'Caracas 55% 24.237886442373526', 'Caracas 56% 23.24969618699264', 'Caracas 60% 23.093638109777544', 'Caracas 60% 23.21881955940879', 'Maracaibo 45% 24.44897952121968', 'Maracaibo 46% 23.08528369893707', 'Maracaibo 60% 23.12115843953649', 'Maracay 42% 23.413523250262084', 'Maracay 44% 23.1614712307336', 'Maracay 54% 23.174235266004455', 'Valencia 40% 23.294380429607685', 'Valencia 41% 23.16706208744312', 'Valencia 43% 24.17915318123484', 'Valencia 44% 24.385417062434136', 'Valencia 54% 23.025011717022654']\n"
     ]
    }
   ],
   "source": [
    "datos_ciudad = []\n",
    "for data in data_ciudad:\n",
    "    elemento = data.split(',')\n",
    "    elemento_tmp = elemento[0].split('->')\n",
    "    ciudad = elemento_tmp[0]\n",
    "    hum = elemento_tmp[1]\n",
    "    temp = elemento[1]\n",
    "    datos_ciudad.append(ciudad +  ' ' + hum + ' ' + str(temp))\n",
    "datos_ciudad.sort()\n",
    "print(datos_ciudad)"
   ]
  },
  {
   "cell_type": "code",
   "execution_count": 8,
   "id": "3c937a5c-252c-4e71-b3e6-1c5aef84140a",
   "metadata": {
    "scrolled": true
   },
   "outputs": [
    {
     "name": "stdout",
     "output_type": "stream",
     "text": [
      "****************************************\n",
      "datos para: Amazonas\n",
      "----------------------------------------\n",
      "humedad\t\ttemperatura\n",
      "----------------------------------------\n",
      "40%\t\t23.27146416378274\n",
      "46%\t\t24.112679522556327\n",
      "59%\t\t24.153870621406824\n",
      "60%\t\t24.306861635724474\n",
      "****************************************\n",
      "datos para: Caracas\n",
      "----------------------------------------\n",
      "humedad\t\ttemperatura\n",
      "----------------------------------------\n",
      "41%\t\t23.211896444367312\n",
      "43%\t\t24.471850403219218\n",
      "44%\t\t24.136596515560008\n",
      "50%\t\t23.033279906706532\n",
      "51%\t\t24.451987950007332\n",
      "54%\t\t23.18420581435151\n",
      "55%\t\t24.237886442373526\n",
      "56%\t\t23.24969618699264\n",
      "60%\t\t23.093638109777544\n",
      "60%\t\t23.21881955940879\n",
      "****************************************\n",
      "datos para: Maracaibo\n",
      "----------------------------------------\n",
      "humedad\t\ttemperatura\n",
      "----------------------------------------\n",
      "45%\t\t24.44897952121968\n",
      "46%\t\t23.08528369893707\n",
      "60%\t\t23.12115843953649\n",
      "****************************************\n",
      "datos para: Maracay\n",
      "----------------------------------------\n",
      "humedad\t\ttemperatura\n",
      "----------------------------------------\n",
      "42%\t\t23.413523250262084\n",
      "44%\t\t23.1614712307336\n",
      "54%\t\t23.174235266004455\n",
      "****************************************\n",
      "datos para: Valencia\n",
      "----------------------------------------\n",
      "humedad\t\ttemperatura\n",
      "----------------------------------------\n",
      "40%\t\t23.294380429607685\n",
      "41%\t\t23.16706208744312\n",
      "43%\t\t24.17915318123484\n",
      "44%\t\t24.385417062434136\n",
      "54%\t\t23.025011717022654\n"
     ]
    }
   ],
   "source": [
    "c = \"\"\n",
    "for ciudad in datos_ciudad:\n",
    "    parse_ciudad = ciudad.split(' ')\n",
    "    if parse_ciudad[0] != c:\n",
    "        c = parse_ciudad[0]                 \n",
    "        print('*'*40)                 \n",
    "        print('datos para: ' + c)\n",
    "        print('-'*40)               \n",
    "        print('humedad\\t\\ttemperatura')\n",
    "        print('-'*40)                \n",
    "    print(parse_ciudad[1] + '\\t\\t' + parse_ciudad[2])"
   ]
  },
  {
   "cell_type": "markdown",
   "id": "9cbe61a6",
   "metadata": {},
   "source": [
    "## Paso 4"
   ]
  },
  {
   "cell_type": "markdown",
   "id": "2b10b461",
   "metadata": {},
   "source": [
    "En este paso asignaremos a una variable de tipo diccionario una lista con el promedio de valor de húmedad y temperatura para cada ciudad, la ciudad será usada como clave del diccionario"
   ]
  },
  {
   "cell_type": "code",
   "execution_count": 9,
   "id": "b59a72b0",
   "metadata": {},
   "outputs": [
    {
     "data": {
      "text/plain": [
       "{'Amazonas': [], 'Maracaibo': [], 'Caracas': [], 'Maracay': [], 'Valencia': []}"
      ]
     },
     "execution_count": 9,
     "metadata": {},
     "output_type": "execute_result"
    }
   ],
   "source": [
    "lista_ciudades = []\n",
    "\n",
    "for ciudad in nueva_lista:\n",
    "    lista_ciudades.append(ciudad[0])\n",
    "\n",
    "conj_ciudades=set(lista_ciudades) # podemos usar una variable tipo Set para crear un iterable de ciudad\n",
    "\n",
    "valores_prom = {}\n",
    "for elementos in conj_ciudades:\n",
    "    valores_prom[elementos] = [] # se crea un diccionario que contiene listas como valores\n",
    "\n",
    "valores_prom # mostramos la estructura de la variable tipo diccionario"
   ]
  },
  {
   "cell_type": "markdown",
   "id": "30b66611",
   "metadata": {},
   "source": [
    "vamos a visualizar la lista **nueva_lista** trabajaremos con ella para extraer los datos requeridos"
   ]
  },
  {
   "cell_type": "code",
   "execution_count": 10,
   "id": "6c6cae29",
   "metadata": {},
   "outputs": [
    {
     "name": "stdout",
     "output_type": "stream",
     "text": [
      "[['Valencia', '44%', 24.39], ['Valencia', '41%', 23.17], ['Maracay', '54%', 23.17], ['Caracas', '60%', 23.22], ['Maracaibo', '46%', 23.09], ['Amazonas', '59%', 24.15], ['Amazonas', '46%', 24.11], ['Caracas', '50%', 23.03], ['Caracas', '43%', 24.47], ['Caracas', '60%', 23.09], ['Amazonas', '40%', 23.27], ['Caracas', '44%', 24.14], ['Caracas', '41%', 23.21], ['Amazonas', '60%', 24.31], ['Caracas', '56%', 23.25], ['Caracas', '54%', 23.18], ['Caracas', '51%', 24.45], ['Maracaibo', '45%', 24.45], ['Caracas', '55%', 24.24], ['Maracaibo', '60%', 23.12], ['Valencia', '43%', 24.18], ['Valencia', '40%', 23.29], ['Valencia', '54%', 23.03], ['Maracay', '42%', 23.41], ['Maracay', '44%', 23.16]]\n"
     ]
    }
   ],
   "source": [
    "print(nueva_lista)"
   ]
  },
  {
   "cell_type": "markdown",
   "id": "e5589d8f",
   "metadata": {},
   "source": [
    "Procedemos a crear nuestro diccionario **valores_prom**"
   ]
  },
  {
   "cell_type": "code",
   "execution_count": 11,
   "id": "0eda499a",
   "metadata": {},
   "outputs": [
    {
     "data": {
      "text/plain": [
       "{'Amazonas': [51.25, 23.96],\n",
       " 'Maracaibo': [50.33, 23.55],\n",
       " 'Caracas': [51.4, 23.63],\n",
       " 'Maracay': [46.67, 23.25],\n",
       " 'Valencia': [44.4, 23.61]}"
      ]
     },
     "execution_count": 11,
     "metadata": {},
     "output_type": "execute_result"
    }
   ],
   "source": [
    "for ciudad in conj_ciudades:\n",
    "    hum, temp, contador = 0, 0, 0\n",
    "    for elemento in nueva_lista:\n",
    "        if ciudad == elemento[0]:\n",
    "            contador+=1\n",
    "            hum += int(elemento[1][:-1])\n",
    "            temp += elemento[2]\n",
    "            valores_prom[ciudad]= [round(hum/contador,2),round(temp/contador,2)]\n",
    "        \n",
    "valores_prom"
   ]
  }
 ],
 "metadata": {
  "kernelspec": {
   "display_name": "Python 3",
   "language": "python",
   "name": "python3"
  },
  "language_info": {
   "codemirror_mode": {
    "name": "ipython",
    "version": 3
   },
   "file_extension": ".py",
   "mimetype": "text/x-python",
   "name": "python",
   "nbconvert_exporter": "python",
   "pygments_lexer": "ipython3",
   "version": "3.10.12"
  }
 },
 "nbformat": 4,
 "nbformat_minor": 5
}
